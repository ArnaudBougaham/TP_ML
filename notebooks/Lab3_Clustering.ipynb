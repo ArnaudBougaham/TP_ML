{
  "cells": [
    {
      "cell_type": "markdown",
      "metadata": {
        "id": "JZ8s8HN9J9DI"
      },
      "source": [
        "# Lab 3: Environmental Impact Analysis in the Steel Industry\n",
        "\n",
        "## Objectives\n",
        "1. Analyze the relationship between energy consumption and CO2 emissions\n",
        "2. Identify environmental impact profiles\n",
        "3. Propose emission reduction strategies\n",
        "\n",
        "## Structure\n",
        "1. Data preparation\n",
        "2. CO2 emissions analysis\n",
        "3. Clustering of environmental profiles\n",
        "4. Optimization recommendations"
      ]
    },
    {
      "cell_type": "code",
      "execution_count": null,
      "metadata": {
        "id": "lpg7CHMBJ-uQ"
      },
      "outputs": [],
      "source": [
        "# Imports and configuration\n",
        "import pandas as pd\n",
        "import numpy as np\n",
        "import matplotlib.pyplot as plt\n",
        "import seaborn as sns\n",
        "from sklearn.preprocessing import StandardScaler\n",
        "from sklearn.decomposition import PCA\n",
        "from sklearn.cluster import KMeans\n",
        "import warnings\n",
        "import os\n",
        "import urllib.request\n",
        "import zipfile\n",
        "warnings.filterwarnings('ignore')\n",
        "\n",
        "# Plot style\n",
        "plt.style.use('default')\n",
        "sns.set_theme()"
      ]
    },
    {
      "cell_type": "code",
      "execution_count": null,
      "metadata": {
        "id": "bQoDKRsIC90J"
      },
      "outputs": [],
      "source": [
        "# Download and prepare data\n",
        "if not os.path.exists('Steel_industry_data.csv'):\n",
        "    print(\"Downloading data...\")\n",
        "    # Download the zip file\n",
        "    !wget -O steel_industry_data.zip https://archive.ics.uci.edu/static/public/851/steel+industry+energy+consumption.zip\n",
        "    # Unzip the file\n",
        "    !unzip -o steel_industry_data.zip\n",
        "    print(\"Data downloaded and unzipped.\")\n",
        "else:\n",
        "    print(\"Data file already present.\")\n",
        "\n",
        "# Load data\n",
        "try:\n",
        "    df = pd.read_csv('Steel_industry_data.csv')\n",
        "    print(f\"Data loaded successfully: {df.shape[0]} observations, {df.shape[1]} variables\")\n",
        "except Exception as e:\n",
        "    print(f\"Error loading data: {e}\")\n",
        "    raise\n",
        "\n",
        "# Separate variables\n",
        "numeric_features = [\n",
        "    'Lagging_Current_Reactive.Power_kVarh',\n",
        "    'Leading_Current_Reactive_Power_kVarh',\n",
        "    'CO2(tCO2)',\n",
        "    'Lagging_Current_Power_Factor',\n",
        "    'Leading_Current_Power_Factor',\n",
        "    'NSM'\n",
        "]\n",
        "categorical_features = ['Day_of_week', 'WeekStatus']\n",
        "\n",
        "# Create industrial day periods\n",
        "def create_industrial_periods(df):\n",
        "    # Convert NSM to hours\n",
        "    df['hour'] = df['NSM'] / 3600\n",
        "\n",
        "    # Create periods with the day starting at 6am\n",
        "    conditions = [\n",
        "        (df['hour'] >= 6) & (df['hour'] < 10),   # Morning1\n",
        "        (df['hour'] >= 10) & (df['hour'] < 14),  # Morning2\n",
        "        (df['hour'] >= 14) & (df['hour'] < 18),  # Afternoon1\n",
        "        (df['hour'] >= 18) & (df['hour'] < 22),  # Afternoon2\n",
        "        (df['hour'] >= 22) | (df['hour'] < 2),   # Night1\n",
        "        (df['hour'] >= 2) & (df['hour'] < 6)     # Night2\n",
        "    ]\n",
        "\n",
        "    # /!\\ Complete the '...' to create a list with 6 strings: Morning1, Morning2, Afternoon1, Afternoon2, Night1, Night2 /!\\\n",
        "    periods = ...\n",
        "    df['period'] = np.select(conditions, periods, default='Night2')\n",
        "    return df\n",
        "\n",
        "# Apply periods\n",
        "df = create_industrial_periods(df)\n",
        "\n",
        "# Calculate carbon intensity avoiding division by zero\n",
        "df['carbon_intensity'] = df['CO2(tCO2)'] / df['Usage_kWh'].replace(0, np.nan)\n",
        "df['carbon_intensity'] = df['carbon_intensity'].replace([np.inf, -np.inf], np.nan)\n",
        "\n",
        "# Replace infinite or NaN values with the median\n",
        "median_intensity = df['carbon_intensity'].median()\n",
        "df['carbon_intensity'] = df['carbon_intensity'].fillna(median_intensity)"
      ]
    },
    {
      "cell_type": "markdown",
      "metadata": {
        "id": "O4ivv44fNctf"
      },
      "source": [
        "## 1. CO2 Emissions Analysis\n",
        "\n",
        "Let's examine emission patterns and their relationship with energy consumption."
      ]
    },
    {
      "cell_type": "code",
      "execution_count": null,
      "metadata": {
        "id": "QYs_5_fZL0BZ"
      },
      "outputs": [],
      "source": [
        "# Visualization of emissions\n",
        "plt.figure(figsize=(15, 5))\n",
        "\n",
        "# Temporal distribution of emissions\n",
        "plt.subplot(1, 2, 1)\n",
        "sns.boxplot(data=df, x='period', y='CO2(tCO2)')\n",
        "plt.title('CO2 Emissions by Period')\n",
        "plt.ylabel('Emissions (tCO2)')\n",
        "\n",
        "# Consumption-emissions relationship\n",
        "plt.subplot(1, 2, 2)\n",
        "sns.scatterplot(data=df, x='Usage_kWh', y='CO2(tCO2)',\n",
        "                hue='period', alpha=0.6)\n",
        "plt.title('Consumption-Emissions Relationship')\n",
        "plt.xlabel('Consumption (kWh)')\n",
        "plt.ylabel('Emissions (tCO2)')\n",
        "\n",
        "plt.tight_layout()\n",
        "# /!\\ Complete the '...' to display the figure /!\\\n",
        "plt...\n",
        "\n",
        "# %% [code]\n",
        "# Select relevant features for environmental analysis\n",
        "features = [\n",
        "    'Usage_kWh',\n",
        "    'CO2(tCO2)',\n",
        "    'Lagging_Current_Reactive.Power_kVarh',\n",
        "    'Leading_Current_Reactive_Power_kVarh',\n",
        "    'Lagging_Current_Power_Factor',\n",
        "    'Leading_Current_Power_Factor'\n",
        "]\n",
        "\n",
        "# Standardization\n",
        "scaler = StandardScaler()\n",
        "X = scaler.fit_transform(df[features])\n",
        "\n",
        "# PCA\n",
        "pca = PCA()\n",
        "X_pca = pca.fit_transform(X)\n",
        "\n",
        "# Display explained variance\n",
        "explained_variance_ratio = pca.explained_variance_ratio_\n",
        "cumsum_variance_ratio = np.cumsum(explained_variance_ratio)\n",
        "\n",
        "print(\"Variance explained by component:\")\n",
        "for i, var in enumerate(explained_variance_ratio):\n",
        "    print(f\"PC{i+1}: {var:.3f} ({cumsum_variance_ratio[i]:.3f} cumulative)\")\n",
        "\n",
        "# Select the first 2 components for clustering\n",
        "X_pca_2d = X_pca[:, :2]\n",
        "\n",
        "# K-means on principal components\n",
        "kmeans = KMeans(n_clusters=3, random_state=42)\n",
        "df['Cluster'] = kmeans.fit_predict(X_pca_2d)\n",
        "\n",
        "# Visualization\n",
        "plt.figure(figsize=(12, 8))\n",
        "\n",
        "# Create grid for cluster boundaries\n",
        "x_min, x_max = X_pca_2d[:, 0].min() - 1, X_pca_2d[:, 0].max() + 1\n",
        "y_min, y_max = X_pca_2d[:, 1].min() - 1, X_pca_2d[:, 1].max() + 1\n",
        "xx, yy = np.meshgrid(np.arange(x_min, x_max, 0.1),\n",
        "                     np.arange(y_min, y_max, 0.1))\n",
        "\n",
        "# Cluster boundaries\n",
        "Z = kmeans.predict(np.c_[xx.ravel(), yy.ravel()])\n",
        "Z = Z.reshape(xx.shape)\n",
        "plt.contour(xx, yy, Z, colors='black', linestyles='--', alpha=0.5)\n",
        "\n",
        "# Scatter plot\n",
        "scatter = plt.scatter(X_pca_2d[:, 0], X_pca_2d[:, 1],\n",
        "                     c=df['Usage_kWh'],  # Color by consumption\n",
        "                     cmap='viridis',\n",
        "                     alpha=0.6)\n",
        "\n",
        "# Cluster annotations\n",
        "for i in range(3):\n",
        "    cluster_data = df[df['Cluster'] == i]\n",
        "    centroid = X_pca_2d[df['Cluster'] == i].mean(axis=0)\n",
        "\n",
        "    # Cluster characteristics\n",
        "    usage_mean = cluster_data['Usage_kWh'].mean()\n",
        "    co2_mean = cluster_data['CO2(tCO2)'].mean()\n",
        "    pf_mean = cluster_data['Lagging_Current_Power_Factor'].mean()\n",
        "\n",
        "    # Determine profile type\n",
        "    if usage_mean > df['Usage_kWh'].quantile(0.66):\n",
        "        profile = \"High load\"\n",
        "    elif usage_mean > df['Usage_kWh'].quantile(0.33):\n",
        "        profile = \"Medium load\"\n",
        "    else:\n",
        "        profile = \"Low load\"\n",
        "\n",
        "    plt.annotate(\n",
        "        f'Cluster {i}\\n'\n",
        "        f'Usage: {usage_mean:.1f} kWh\\n'\n",
        "        f'CO2: {co2_mean:.3f} tCO2\\n'\n",
        "        f'PF: {pf_mean:.2f}\\n'\n",
        "        f'Type: {profile}',\n",
        "        xy=(centroid[0], centroid[1]),\n",
        "        xytext=(10, 10),\n",
        "        textcoords='offset points',\n",
        "        bbox=dict(boxstyle='round,pad=0.5', fc='white', alpha=0.8)\n",
        "    )\n",
        "\n",
        "plt.title('Consumption Profiles (after PCA)')\n",
        "plt.xlabel('First principal component')\n",
        "plt.ylabel('Second principal component')\n",
        "plt.colorbar(scatter, label='Consumption (kWh)')\n",
        "plt.grid(True)\n",
        "plt.show()\n",
        "\n",
        "# Cluster analysis\n",
        "print(\"\\nDetailed cluster analysis:\")\n",
        "for i in range(3):\n",
        "    cluster_data = df[df['Cluster'] == i]\n",
        "    print(f\"\\nCluster {i}:\")\n",
        "    print(f\"Number of points: {len(cluster_data)}\")\n",
        "    print(f\"Average consumption: {cluster_data['Usage_kWh'].mean():.1f} kWh\")\n",
        "    print(f\"Average emissions: {cluster_data['CO2(tCO2)'].mean():.3f} tCO2\")\n",
        "    print(f\"Average power factor: {cluster_data['Lagging_Current_Power_Factor'].mean():.2f}\")\n",
        "    print(f\"Dominant period: {cluster_data['period'].value_counts().index[0]}\")"
      ]
    },
    {
      "cell_type": "markdown",
      "metadata": {
        "id": "0wUFuXUdZD_8"
      },
      "source": [
        "❓ **Analysis Questions:**\n",
        "\n",
        "1. **Emission Patterns**\n",
        "   - Which periods show the highest emissions?\n",
        "   - How can the variations in carbon emissions be explained?\n",
        "   - Which factor(s) most influence these emissions?\n",
        "\n",
        "2. **Improvement Opportunities**\n",
        "   - What concrete actions can be proposed to reduce the carbon footprint?"
      ]
    },
    {
      "cell_type": "markdown",
      "metadata": {
        "id": "wHiVQeLgJSXj"
      },
      "source": [
        "## Cluster Analysis and Recommendations\n",
        "\n",
        "### 1. Profile Identification"
      ]
    },
    {
      "cell_type": "code",
      "execution_count": null,
      "metadata": {
        "id": "KXQsbUEhJYZu"
      },
      "outputs": [],
      "source": [
        "# Main visualization of clusters with their characteristics\n",
        "plt.figure(figsize=(12, 8))\n",
        "plt.scatter(X_pca_2d[:, 0], X_pca_2d[:, 1],\n",
        "           c=df['Cluster'], cmap='viridis',\n",
        "           alpha=0.6)\n",
        "plt.contour(xx, yy, Z, colors='black', linestyles='--', alpha=0.5)\n",
        "\n",
        "for i in range(3):\n",
        "    cluster_data = df[df['Cluster'] == i]\n",
        "    centroid = X_pca_2d[df['Cluster'] == i].mean(axis=0)\n",
        "    plt.annotate(f'Cluster {i}', xy=(centroid[0], centroid[1]))\n",
        "\n",
        "plt.title('Global View of Clusters')\n",
        "# /!\\ Complete the '...' to name the x-axis PC1 and the y-axis PC2 /!\\\n",
        "plt...\n",
        "plt...\n",
        "plt.colorbar(label='Cluster')\n",
        "plt.show()"
      ]
    },
    {
      "cell_type": "markdown",
      "metadata": {
        "id": "AhFQGzAYLPhq"
      },
      "source": [
        "❓ **Questions about cluster separation:**\n",
        "- What does the distance between points in the same cluster represent?\n",
        "- How can the elongated shape of cluster 0 be explained?"
      ]
    },
    {
      "cell_type": "markdown",
      "metadata": {
        "id": "Kx3_IYKVJbxL"
      },
      "source": [
        "### 2. Analysis of Cluster 1 - Nighttime Efficiency Issue"
      ]
    },
    {
      "cell_type": "code",
      "execution_count": null,
      "metadata": {
        "id": "c2gRxLdZJf40"
      },
      "outputs": [],
      "source": [
        "# Visualization of efficiency by period\n",
        "cluster1_data = df[df['Cluster'] == 1]\n",
        "\n",
        "plt.figure(figsize=(15, 5))\n",
        "\n",
        "# Distribution of power factor by period\n",
        "plt.subplot(1, 2, 1)\n",
        "sns.boxplot(data=cluster1_data, x='period',\n",
        "            y='Lagging_Current_Power_Factor')\n",
        "# /!\\ Complete the '...' to add the title to the figure: Power Factor - Cluster 1  /!\\\n",
        "plt...\n",
        "plt.xticks(rotation=45)\n",
        "\n",
        "# Temporal evolution\n",
        "plt.subplot(1, 2, 2)\n",
        "sns.scatterplot(data=cluster1_data,\n",
        "                x='hour',\n",
        "                y='Lagging_Current_Power_Factor',\n",
        "                alpha=0.5)\n",
        "plt.axhline(y=90, color='r', linestyle='--',\n",
        "            label='Target PF > 90')\n",
        "plt.title('PF Variation over 24h')\n",
        "plt.legend()\n",
        "plt.tight_layout()\n",
        "plt.show()\n",
        "\n",
        "print(\"Cluster 1 statistics by period:\")\n",
        "print(cluster1_data.groupby('period')['Lagging_Current_Power_Factor'].describe())"
      ]
    },
    {
      "cell_type": "markdown",
      "metadata": {
        "id": "JApi1hCtLV_K"
      },
      "source": [
        "❓ **Questions about nighttime inefficiency:**\n",
        "- Why is the power factor lower at night?\n",
        "- What would be the financial impact of improving nighttime power factor?"
      ]
    },
    {
      "cell_type": "markdown",
      "metadata": {
        "id": "PMExP0reJi7r"
      },
      "source": [
        "### 3. Analysis of Cluster 0 - Peak Load Management"
      ]
    },
    {
      "cell_type": "code",
      "execution_count": null,
      "metadata": {
        "id": "WGbRHkLXJkN1"
      },
      "outputs": [],
      "source": [
        "# Analysis of consumption peaks\n",
        "# /!\\ Complete the '...' to assign to the variable cluster0_data the dataframe where only cluster 0 is selected /!\\\n",
        "cluster0_data = ...\n",
        "\n",
        "plt.figure(figsize=(15, 5))\n",
        "\n",
        "# Hourly distribution of load\n",
        "plt.subplot(1, 2, 1)\n",
        "sns.histplot(data=cluster0_data, x='hour',\n",
        "             weights='Usage_kWh', bins=24)\n",
        "plt.title('Hourly Load Distribution')\n",
        "\n",
        "# Load-emissions relationship\n",
        "plt.subplot(1, 2, 2)\n",
        "sns.scatterplot(data=cluster0_data,\n",
        "                x='Usage_kWh',\n",
        "                y='CO2(tCO2)',\n",
        "                hue='period')\n",
        "plt.title('Environmental Impact of Peaks')\n",
        "plt.tight_layout()\n",
        "plt.show()\n",
        "\n",
        "# Analysis of peak periods\n",
        "peak_periods = cluster0_data.groupby('period')['Usage_kWh'].agg(['mean', 'count'])\n",
        "print(\"\\nAnalysis of peaks by period:\")\n",
        "print(peak_periods.sort_values('mean', ascending=False))"
      ]
    },
    {
      "cell_type": "markdown",
      "metadata": {
        "id": "05U85eNGLZZB"
      },
      "source": [
        "❓ **Questions about peak loads:**\n",
        "- Why are peaks concentrated in certain periods?\n",
        "- What is the trade-off between load smoothing and production constraints?"
      ]
    },
    {
      "cell_type": "markdown",
      "metadata": {
        "id": "UPvG2h0KJpIO"
      },
      "source": [
        "### 4. Analysis of Cluster 2 - Efficiency Model"
      ]
    },
    {
      "cell_type": "code",
      "execution_count": null,
      "metadata": {
        "id": "DXHrmbzBJqO5"
      },
      "outputs": [],
      "source": [
        "# Comparison of operational conditions\n",
        "cluster2_data = df[df['Cluster'] == 2]\n",
        "\n",
        "plt.figure(figsize=(15, 5))\n",
        "\n",
        "# Comparison of power factors\n",
        "plt.subplot(1, 2, 1)\n",
        "sns.boxplot(data=df, x='Cluster',\n",
        "            y='Lagging_Current_Power_Factor')\n",
        "plt.title('Comparison of PF by Cluster')\n",
        "\n",
        "# Analysis of optimal conditions\n",
        "plt.subplot(1, 2, 2)\n",
        "sns.scatterplot(data=cluster2_data,\n",
        "                x='Usage_kWh',\n",
        "                y='Lagging_Current_Power_Factor',\n",
        "                hue='period')\n",
        "plt.title('Optimal Conditions (Cluster 2)')\n",
        "plt.tight_layout()\n",
        "plt.show()\n",
        "\n",
        "# Identification of best practices\n",
        "best_conditions = cluster2_data[cluster2_data['Lagging_Current_Power_Factor'] > 95]\n",
        "print(\"\\nOptimal operating conditions:\")\n",
        "print(best_conditions.groupby('period').agg({\n",
        "    'Usage_kWh': 'mean',\n",
        "    'Lagging_Current_Power_Factor': 'mean'\n",
        "}).round(2))"
      ]
    },
    {
      "cell_type": "markdown",
      "metadata": {
        "id": "fsGFGJc8Lcyz"
      },
      "source": [
        "❓ **Questions about best practices:**\n",
        "- What specific conditions allow for a PF > 95?\n",
        "- How can these conditions be generalized to other periods?\n",
        "- What would be the financial consequence of implementing these improvements?"
      ]
    },
    {
      "cell_type": "markdown",
      "metadata": {
        "id": "cAlKq8EuJxDH"
      },
      "source": [
        "### 5. Implementation and Monitoring Plan"
      ]
    },
    {
      "cell_type": "code",
      "execution_count": null,
      "metadata": {
        "id": "0Te6wETgJxmV"
      },
      "outputs": [],
      "source": [
        "# Creation of a monitoring dashboard\n",
        "fig, axes = plt.subplots(2, 2, figsize=(15, 12))\n",
        "\n",
        "# 1. Cluster distribution\n",
        "sns.scatterplot(data=df, x=X_pca_2d[:, 0], y=X_pca_2d[:, 1],\n",
        "                hue='Cluster', ax=axes[0, 0])\n",
        "axes[0, 0].set_title('Cluster Distribution')\n",
        "\n",
        "# 2. PF evolution\n",
        "sns.boxplot(data=df, x='period', y='Lagging_Current_Power_Factor',\n",
        "            hue='Cluster', ax=axes[0, 1])\n",
        "axes[0, 1].set_title('PF by Period and Cluster')\n",
        "axes[0, 1].tick_params(axis='x', rotation=45)\n",
        "\n",
        "# 3. Load distribution\n",
        "sns.histplot(data=df, x='Usage_kWh', hue='Cluster',\n",
        "             multiple=\"stack\", ax=axes[1, 0])\n",
        "axes[1, 0].set_title('Load Distribution')\n",
        "\n",
        "# 4. Emissions by cluster\n",
        "sns.boxplot(data=df, x='Cluster', y='CO2(tCO2)', ax=axes[1, 1])\n",
        "axes[1, 1].set_title('Emissions by Cluster')\n",
        "\n",
        "plt.tight_layout()\n",
        "plt.show()\n",
        "\n",
        "# Current KPIs\n",
        "print(\"\\nBase KPIs:\")\n",
        "for cluster in range(3):\n",
        "    cluster_data = df[df['Cluster'] == cluster]\n",
        "    print(f\"\\nCluster {cluster}:\")\n",
        "    print(f\"Average PF: {cluster_data['Lagging_Current_Power_Factor'].mean():.2f}\")\n",
        "    print(f\"% points PF > 90: {(cluster_data['Lagging_Current_Power_Factor'] > 90).mean()*100:.1f}%\")\n",
        "    print(f\"Average emissions: {cluster_data['CO2(tCO2)'].mean():.3f} tCO2\")"
      ]
    },
    {
      "cell_type": "markdown",
      "metadata": {
        "id": "srCsR_PDLgbp"
      },
      "source": [
        "❓ **Questions about monitoring:**\n",
        "- What additional KPIs would be relevant?\n",
        "- How can performance drift be detected?"
      ]
    },
    {
      "cell_type": "markdown",
      "metadata": {
        "id": "hvg2QrXYJ0ZZ"
      },
      "source": [
        "## Recommendations for Emission Reduction\n",
        "\n",
        "1. **Operational Optimization**\n",
        "   - Identify and replicate conditions of low-intensity periods\n",
        "   - Optimize scheduling of energy-intensive operations\n",
        "   - Train teams in best environmental practices\n",
        "\n",
        "2. **Technical Improvements**\n",
        "   - Modernize the most polluting equipment\n",
        "   - Install real-time emission monitoring systems\n",
        "   - Implement energy recovery systems\n",
        "\n",
        "3. **Long-term Strategy**\n",
        "   - Set reduction targets by cluster\n",
        "   - Invest in low-carbon technologies\n",
        "   - Develop an energy transition plan"
      ]
    },
    {
      "cell_type": "markdown",
      "metadata": {
        "id": "2lQa1p9bLivb"
      },
      "source": [
        "❓ **Questions about implementation:**\n",
        "- Where to concretely start?\n",
        "- How to involve teams in these changes?"
      ]
    }
  ],
  "metadata": {
    "colab": {
      "provenance": []
    },
    "kernelspec": {
      "display_name": "Python 3",
      "name": "python3"
    },
    "language_info": {
      "name": "python"
    }
  },
  "nbformat": 4,
  "nbformat_minor": 0
}
