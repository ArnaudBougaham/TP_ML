{
  "cells": [
    {
      "cell_type": "markdown",
      "metadata": {
        "id": "87CirrMfzlCI"
      },
      "source": [
        "# Machine Learning Lab - Steel Industry\n",
        "## Part 1: Data Exploration\n",
        "\n",
        "### Introduction to the dataset\n",
        "\n",
        "This lab uses a dataset from a steel industry, collected over the period 2018 to 2019.\n",
        "It contains detailed energy measurements from an industrial facility, offering a unique opportunity to analyze and optimize energy consumption in a real industrial context.\n",
        "\n",
        "#### Description of variables:\n",
        "\n",
        "1. **Temporal variables:**\n",
        "   - `date`: Date and time of the measurement\n",
        "   - `Day_of_week`: Day of the week (Monday to Sunday)\n",
        "   - `NSM`: Number of Seconds from Midnight\n",
        "   - `WeekStatus`: Type of day (Weekday/Weekend)\n",
        "\n",
        "2. **Main energy variables:**\n",
        "   - `Usage_kWh`: Energy consumption in kilowatt-hours (TARGET)\n",
        "   - `Lagging_Current_Reactive.Power_kVarh`: Lagging reactive power\n",
        "   - `Leading_Current_Reactive_Power_kVarh`: Leading reactive power\n",
        "   - `CO2(tCO2)`: CO2 emissions in tons\n",
        "\n",
        "3. **Power factors:**\n",
        "   - `Lagging_Current_Power_Factor`: Lagging power factor\n",
        "   - `Leading_Current_Power_Factor`: Leading power factor\n",
        "\n",
        "#### Possible applications:\n",
        "\n",
        "1. **Consumption prediction:**\n",
        "   - Forecasting energy consumption\n",
        "   - Estimating CO2 emissions\n",
        "   - Production planning\n",
        "\n",
        "2. **Energy optimization:**\n",
        "   - Identifying periods of high consumption\n",
        "   - Analyzing energy efficiency\n",
        "   - Reducing CO2 emissions\n",
        "\n",
        "3. **Anomaly detection:**\n",
        "   - Identifying unusual consumption\n",
        "   - Detecting malfunctions\n",
        "   - Predictive maintenance\n",
        "\n",
        "4. **Pattern analysis:**\n",
        "   - Daily and weekly variations\n",
        "   - Impact of weekdays vs weekends\n",
        "   - Correlations between energy variables"
      ]
    },
    {
      "cell_type": "code",
      "execution_count": null,
      "metadata": {
        "id": "-oqZbdJ7zmbp"
      },
      "outputs": [],
      "source": [
        "# Import necessary packages\n",
        "import pandas as pd\n",
        "import numpy as np\n",
        "import matplotlib.pyplot as plt\n",
        "import seaborn as sns\n",
        "from sklearn.preprocessing import StandardScaler\n",
        "from scipy.stats import normaltest\n",
        "\n",
        "# Display configuration\n",
        "sns.set_theme()\n",
        "%matplotlib inline\n",
        "\n",
        "# Download and load the data\n",
        "!wget -O steel_industry_data.zip https://archive.ics.uci.edu/static/public/851/steel+industry+energy+consumption.zip\n",
        "!unzip -o steel_industry_data.zip\n",
        "\n",
        "# Load the data\n",
        "df = pd.read_csv('Steel_industry_data.csv')\n",
        "\n",
        "# Convert dates with European format (day/month/year)\n",
        "df['date'] = pd.to_datetime(df['date'], format='%d/%m/%Y %H:%M')\n",
        "\n",
        "# Display the first rows with better formatting\n",
        "print(\"\\nPreview of the first rows:\")\n",
        "pd.set_option('display.max_columns', None)\n",
        "pd.set_option('display.width', None)\n",
        "print(df.head().to_string())\n",
        "\n",
        "# Information about the dataset structure\n",
        "print(\"\\nDataset structure:\")\n",
        "print(f\"Number of observations: {df.shape[0]:,}\")\n",
        "print(f\"Number of variables: {df.shape[1]:,}\")\n",
        "\n",
        "# Summary of variable types\n",
        "print(\"\\nVariable types:\")\n",
        "display(df.dtypes)\n",
        "\n",
        "# Example values for categorical variables\n",
        "print(\"\\nUnique values in categorical variables:\")\n",
        "for col in ['Day_of_week', 'WeekStatus', 'Load_Type']:\n",
        "    print(f\"\\n{col} :\")\n",
        "    print(df[col].value_counts())\n",
        "\n",
        "# Detailed descriptive statistics\n",
        "print(\"\\nDescriptive statistics of numerical variables:\")\n",
        "# /!\\ Complete the '...' to get a description (Pandas) of the dataset /!\\\n",
        "desc_stats = ...\n",
        "display(desc_stats)\n",
        "\n",
        "# Check temporal coverage\n",
        "print(\"\\nPeriod covered by the dataset:\")\n",
        "print(f\"Start: {df['date'].min()}\")\n",
        "print(f\"End: {df['date'].max()}\")\n",
        "print(f\"Duration: {(df['date'].max() - df['date'].min()).days} days\")\n",
        "\n",
        "# Check for missing values\n",
        "print(\"\\nMissing values per variable:\")\n",
        "print(df.isnull().sum())"
      ]
    },
    {
      "cell_type": "markdown",
      "metadata": {
        "id": "mi82UtaQzpak"
      },
      "source": [
        "### Points to consider for the analysis:\n",
        "\n",
        "1. **Necessary preprocessing:**\n",
        "   - Standardization of numerical variables\n",
        "   - Encoding of categorical variables\n",
        "   - Handling temporal aspects\n",
        "\n",
        "2. **Business aspects to consider:**\n",
        "   - Industrial production cycles\n",
        "   - Energy constraints\n",
        "   - Environmental objectives (CO2)\n",
        "\n",
        "3. **Analysis opportunities:**\n",
        "   - Consumption patterns\n",
        "   - Energy efficiency\n",
        "   - Cost optimization"
      ]
    },
    {
      "cell_type": "code",
      "execution_count": null,
      "metadata": {
        "id": "Dn9Cwn-dzsFu"
      },
      "outputs": [],
      "source": [
        "# Initial visualization of distributions\n",
        "plt.figure(figsize=(15, 10))\n",
        "\n",
        "# Distribution of energy consumption\n",
        "plt.subplot(2, 2, 1)\n",
        "sns.histplot(data=df, x='Usage_kWh', bins=50)\n",
        "plt.title('Distribution of energy consumption')\n",
        "\n",
        "# Consumption by day of the week\n",
        "plt.subplot(2, 2, 2)\n",
        "sns.boxplot(data=df, x='Day_of_week', y='Usage_kWh')\n",
        "# /!\\ Complete the '...' to rotate the x-axis labels by 45° (Matplotlib) /!\\\n",
        "plt.xticks(...)\n",
        "plt.title('Consumption by day')\n",
        "\n",
        "# Temporal evolution\n",
        "plt.subplot(2, 2, 3)\n",
        "df.set_index('date')['Usage_kWh'].plot()\n",
        "plt.title('Evolution of consumption over time')\n",
        "\n",
        "# CO2/Consumption relationship\n",
        "plt.subplot(2, 2, 4)\n",
        "plt.scatter(df['Usage_kWh'], df['CO2(tCO2)'], alpha=0.5)\n",
        "plt.xlabel('Consumption (kWh)')\n",
        "plt.ylabel('CO2 emissions (tCO2)')\n",
        "plt.title('Consumption/Emissions relationship')\n",
        "\n",
        "plt.tight_layout()\n",
        "plt.show()"
      ]
    },
    {
      "cell_type": "markdown",
      "metadata": {
        "id": "tt_5J7nuSZ_o"
      },
      "source": [
        "❓ **Questions:**\n",
        "1. How many numerical and categorical variables do we have?\n",
        "2. Are there any missing values to handle?\n",
        "3. What are the value ranges for each variable?\n",
        "4. What are the main characteristics of energy consumption?\n",
        "5. How does consumption vary by day of the week?\n",
        "6. What is the nature of the relationship between consumption and CO2 emissions?"
      ]
    },
    {
      "cell_type": "markdown",
      "metadata": {
        "id": "KMKCg31N0Szt"
      },
      "source": [
        "### 2. Distribution analysis\n",
        "Let's visualize the distribution of our main variables."
      ]
    },
    {
      "cell_type": "code",
      "execution_count": null,
      "metadata": {
        "id": "FVYZsaFF0Tn-"
      },
      "outputs": [],
      "source": [
        "# Visualization of the distribution of numerical variables\n",
        "plt.figure(figsize=(15, 10))\n",
        "df.select_dtypes(include=['float64']).hist(bins=30)\n",
        "plt.tight_layout()\n",
        "plt.show()"
      ]
    },
    {
      "cell_type": "markdown",
      "metadata": {
        "id": "uxkpXe-X0Xi_"
      },
      "source": [
        "### 3. Correlation analysis\n",
        "Let's study the relationships between our variables."
      ]
    },
    {
      "cell_type": "code",
      "execution_count": null,
      "metadata": {
        "id": "dQoa4_eQ0Yhp"
      },
      "outputs": [],
      "source": [
        "# Data preprocessing for correlation\n",
        "# Remove non-numeric columns\n",
        "df_num = df.select_dtypes(include=['float64', 'int64'])\n",
        "\n",
        "# Correlation matrix\n",
        "plt.figure(figsize=(12, 8))\n",
        "sns.heatmap(df_num.corr(), annot=True, cmap='coolwarm', fmt='.2f')\n",
        "plt.title('Correlation matrix')\n",
        "plt.show()\n",
        "\n",
        "# Scatter matrix for all numerical variables\n",
        "# Set font size for labels\n",
        "plt.rcParams['axes.labelsize'] = 8\n",
        "plt.rcParams['xtick.labelsize'] = 6\n",
        "plt.rcParams['ytick.labelsize'] = 6\n",
        "\n",
        "# Create the scatter matrix\n",
        "axes = pd.plotting.scatter_matrix(df_num,\n",
        "                                figsize=(8, 8),\n",
        "                                diagonal='kde',\n",
        "                                alpha=0.5,\n",
        "                                density_kwds={'alpha': 0.2},\n",
        "                                marker='.',\n",
        "                                s=20)  # Reduced point size\n",
        "\n",
        "# Rotate labels for better readability\n",
        "for ax in axes.flatten():\n",
        "    ax.xaxis.label.set_rotation(90)\n",
        "    ax.yaxis.label.set_rotation(0)\n",
        "    ax.yaxis.label.set_ha('right')\n",
        "\n",
        "# Reset font parameters\n",
        "plt.rcParams['axes.labelsize'] = 10\n",
        "plt.rcParams['xtick.labelsize'] = 10\n",
        "plt.rcParams['ytick.labelsize'] = 10"
      ]
    },
    {
      "cell_type": "markdown",
      "metadata": {
        "id": "ZGabWclK0c3n"
      },
      "source": [
        "❓ **Questions:**\n",
        "1. Which variables are most correlated with energy consumption?\n",
        "2. Do you observe any surprising correlations?\n",
        "3. Which variables seem the least important?"
      ]
    },
    {
      "cell_type": "markdown",
      "metadata": {
        "id": "hLD0WSMticoW"
      },
      "source": [
        "### 4. In-depth analysis of relationships between variables\n",
        "\n",
        "So far, we have analyzed linear (Pearson) correlations between our variables.\n",
        "However, in real data, relationships can be more complex.\n",
        "Let's deepen our analysis in three steps:\n",
        "\n",
        "1. **Creation of new indicators:** Relevant ratios for energy analysis\n",
        "2. **Analysis of non-linear correlations:** Using the Spearman coefficient\n",
        "3. **Visualization of interactions:** Impact of different factors on consumption\n",
        "\n",
        "#### 4.1 Creation of energy indicators"
      ]
    },
    {
      "cell_type": "code",
      "execution_count": null,
      "metadata": {
        "id": "Vrx-IQSyiffD"
      },
      "outputs": [],
      "source": [
        "# Creation of relevant energy ratios\n",
        "df['power_factor_ratio'] = df['Lagging_Current_Power_Factor'] / df['Leading_Current_Power_Factor']\n",
        "df['reactive_power_ratio'] = df['Lagging_Current_Reactive.Power_kVarh'] / df['Leading_Current_Reactive_Power_kVarh']"
      ]
    },
    {
      "cell_type": "markdown",
      "metadata": {
        "id": "Dib5fNyeigV-"
      },
      "source": [
        "#### 4.2 Comparison of linear and non-linear correlations\n",
        "\n",
        "- **Pearson correlation** (seen previously): measures linear relationships\n",
        "- **Spearman correlation**: measures monotonic relationships (even non-linear)\n",
        "\n",
        "Let's compare the two approaches:"
      ]
    },
    {
      "cell_type": "code",
      "execution_count": null,
      "metadata": {
        "id": "s-BDZA2NiisH"
      },
      "outputs": [],
      "source": [
        "# Selection of numeric columns\n",
        "numeric_cols = df.select_dtypes(include=['float64', 'int64']).columns\n",
        "\n",
        "# Creation of the two correlation matrices\n",
        "pearson_corr = df[numeric_cols].corr(method='pearson')\n",
        "# /!\\ Complete the '...' to get a correlation matrix with the Spearman method /!\\\n",
        "spearman_corr = df[numeric_cols]...\n",
        "\n",
        "# Side-by-side visualization\n",
        "fig, (ax1, ax2) = plt.subplots(1, 2, figsize=(20, 8))\n",
        "\n",
        "sns.heatmap(pearson_corr, annot=True, cmap='coolwarm', fmt='.2f', ax=ax1)\n",
        "ax1.set_title('Pearson correlations\\n(linear relationships)')\n",
        "\n",
        "sns.heatmap(spearman_corr, annot=True, cmap='coolwarm', fmt='.2f', ax=ax2)\n",
        "ax2.set_title('Spearman correlations\\n(monotonic relationships)')\n",
        "\n",
        "plt.tight_layout()\n",
        "plt.show()"
      ]
    },
    {
      "cell_type": "markdown",
      "metadata": {
        "id": "11To3ikcikhF"
      },
      "source": [
        "#### 4.3 Analysis of specific interactions\n",
        "\n",
        "Let's visualize some important relationships to understand their nature:"
      ]
    },
    {
      "cell_type": "code",
      "execution_count": null,
      "metadata": {
        "id": "wWqlRIBgimI3"
      },
      "outputs": [],
      "source": [
        "# Visualization of key interactions\n",
        "plt.figure(figsize=(15, 5))\n",
        "\n",
        "plt.subplot(1, 3, 1)\n",
        "sns.scatterplot(data=df, x='power_factor_ratio', y='Usage_kWh', alpha=0.5)\n",
        "plt.title('Consumption vs Power factor ratio')\n",
        "\n",
        "plt.subplot(1, 3, 2)\n",
        "# /!\\ Complete the '...' to get a scatterplot (Seaborn) of the reactive power ratio as a function of energy consumption /!\\\n",
        "sns.scatterplot(...)\n",
        "plt.title('Consumption vs Reactive power ratio')\n",
        "\n",
        "plt.subplot(1, 3, 3)\n",
        "sns.scatterplot(data=df, x='CO2(tCO2)', y='Usage_kWh',\n",
        "                hue='WeekStatus', alpha=0.5)\n",
        "plt.title('Consumption vs CO2 by day type')\n",
        "\n",
        "plt.tight_layout()\n",
        "plt.show()"
      ]
    },
    {
      "cell_type": "markdown",
      "metadata": {
        "id": "7LSqQ8XJioCw"
      },
      "source": [
        "❓ **Analysis questions:**\n",
        "\n",
        "1. **Comparison of correlations**\n",
        "   - What differences do you observe between Pearson and Spearman correlations?\n",
        "   - For which variables are the differences most marked?\n",
        "   - What does this teach us about the nature of the relationships between variables?\n",
        "\n",
        "2. **Energy ratios**\n",
        "   - Why were these specific ratios created?\n",
        "   - What do they reveal about energy efficiency?\n",
        "\n",
        "3. **Consumption patterns**\n",
        "   - How does the CO2/consumption relationship vary by type of day?\n",
        "   - What implications does this have for energy management?\n",
        "   - What recommendations could you make?"
      ]
    },
    {
      "cell_type": "markdown",
      "metadata": {
        "id": "l-44cy5W0fFn"
      },
      "source": [
        "### 5. Data preparation for learning"
      ]
    },
    {
      "cell_type": "code",
      "execution_count": null,
      "metadata": {
        "id": "fApE_oe60hca"
      },
      "outputs": [],
      "source": [
        "# Data preparation for tests\n",
        "# Conversion of categorical variables\n",
        "from sklearn.preprocessing import OneHotEncoder, StandardScaler\n",
        "\n",
        "# Encoding of categorical variables\n",
        "# Define the explicit order of days\n",
        "days_order = ['Monday', 'Tuesday', 'Wednesday', 'Thursday', 'Friday', 'Saturday', 'Sunday']\n",
        "\n",
        "# Encoding of categorical variables\n",
        "categorical_features = ['Day_of_week', 'WeekStatus']\n",
        "encoder = OneHotEncoder(sparse_output=False)  # Remove drop='first' to see all days\n",
        "\n",
        "# Ensure days are in the correct order\n",
        "df['Day_of_week'] = pd.Categorical(df['Day_of_week'], categories=days_order, ordered=True)\n",
        "\n",
        "# Encode the variables\n",
        "encoded_features = encoder.fit_transform(df[categorical_features])\n",
        "\n",
        "# Create column names for encoded variables\n",
        "day_names = [f'Day_{day}' for day in encoder.categories_[0]]  # All days\n",
        "week_status_names = [f'Status_{status}' for status in encoder.categories_[1]]\n",
        "encoded_columns = day_names + week_status_names\n",
        "\n",
        "# Display for verification\n",
        "print(\"Day categories:\", encoder.categories_[0])\n",
        "print(\"Encoded days:\", day_names)\n",
        "\n",
        "# Create DataFrame with encoded variables\n",
        "df_encoded = pd.DataFrame(encoded_features, columns=encoded_columns)\n",
        "\n",
        "# Select numeric features\n",
        "numeric_features = [\n",
        "    'Usage_kWh',\n",
        "    'Lagging_Current_Reactive.Power_kVarh',\n",
        "    'Leading_Current_Reactive_Power_kVarh',\n",
        "    'CO2(tCO2)',\n",
        "    'Lagging_Current_Power_Factor',\n",
        "    'Leading_Current_Power_Factor',\n",
        "    'NSM'\n",
        "]\n",
        "\n",
        "# Standardization of numeric variables\n",
        "scaler = StandardScaler()\n",
        "df_scaled = pd.DataFrame(\n",
        "    scaler.fit_transform(df[numeric_features]),\n",
        "    columns=numeric_features\n",
        ")\n",
        "\n",
        "# Combine numeric and encoded features\n",
        "# /!\\ Complete the '...' to get a concatenation (Pandas) of df_scaled and df_encoded /!\\\n",
        "df_final = ...\n",
        "\n",
        "display(df_final)\n",
        "# display(df_final.loc[2000:2300])\n",
        "\n",
        "# Check residual correlations\n",
        "plt.figure(figsize=(12, 8))\n",
        "sns.heatmap(df_final.corr(), annot=True, cmap='coolwarm', fmt='.2f')\n",
        "plt.title('Correlations of prepared features')\n",
        "plt.show()"
      ]
    },
    {
      "cell_type": "markdown",
      "metadata": {
        "id": "5gmhGaH652d8"
      },
      "source": [
        "❓ **Questions:**\n",
        "\n",
        "1. **Relationships between energy variables**\n",
        "   - What is the relationship between consumption (Usage_kWh) and CO2 emissions?\n",
        "   - Why is there a strong correlation between these variables?\n",
        "   - What other variables are strongly correlated with consumption?\n",
        "\n",
        "2. **Relationships between power factors**\n",
        "   - How to interpret the correlation between Lagging and Leading Power Factor?\n",
        "   - Why do these factors have different relationships with consumption?\n",
        "   - What impact can this have on energy efficiency?\n",
        "\n",
        "3. **Data structure**\n",
        "   - Are there redundant variables that could be eliminated?\n",
        "   - Which variables seem most important for prediction?\n",
        "\n",
        "4. **Practical implications**\n",
        "   - How can these correlations guide energy optimization?\n",
        "   - Which variables should be monitored as a priority?\n",
        "   - What business recommendations can be drawn from this?"
      ]
    },
    {
      "cell_type": "markdown",
      "metadata": {
        "id": "R8cjmmWfPjzR"
      },
      "source": [
        "### 6. In-depth temporal analysis\n",
        "\n",
        "Temporal analysis is crucial to understanding energy consumption patterns."
      ]
    },
    {
      "cell_type": "code",
      "execution_count": null,
      "metadata": {
        "id": "RhOpVNSNPkoy"
      },
      "outputs": [],
      "source": [
        "# Conversion of the NSM column (Number of Seconds from Midnight) to hour\n",
        "df['hour'] = df['NSM'] / 3600\n",
        "\n",
        "# Hourly analysis\n",
        "plt.figure(figsize=(15, 5))\n",
        "\n",
        "plt.subplot(1, 2, 1)\n",
        "hourly_consumption = df.groupby('hour')['Usage_kWh'].mean()\n",
        "plt.plot(hourly_consumption.index, hourly_consumption.values)\n",
        "plt.title('Average consumption by hour')\n",
        "plt.xlabel('Hour')\n",
        "plt.ylabel('Consumption (kWh)')\n",
        "\n",
        "plt.subplot(1, 2, 2)\n",
        "sns.boxplot(data=df, x='Day_of_week', y='Usage_kWh')\n",
        "plt.title('Consumption distribution by day')\n",
        "plt.xticks(rotation=45)\n",
        "\n",
        "plt.tight_layout()\n",
        "plt.show()\n",
        "\n",
        "# Weekly pattern analysis\n",
        "weekly_stats = df.groupby('Day_of_week').agg({\n",
        "    'Usage_kWh': ['mean', 'std', 'min', 'max'],\n",
        "    'CO2(tCO2)': ['mean', 'std']\n",
        "}).round(2)\n",
        "\n",
        "print(\"\\nWeekly statistics:\")\n",
        "display(weekly_stats)"
      ]
    },
    {
      "cell_type": "markdown",
      "metadata": {
        "id": "P-sLQPgIPnJb"
      },
      "source": [
        "❓ **Questions:**\n",
        "1. What are the peak consumption hours?\n",
        "2. Is there a significant difference between days of the week?\n",
        "3. How can the observed variations be explained?"
      ]
    },
    {
      "cell_type": "code",
      "execution_count": null,
      "metadata": {
        "id": "08LAh78K6dZT"
      },
      "outputs": [],
      "source": []
    }
  ],
  "metadata": {
    "colab": {
      "provenance": []
    },
    "kernelspec": {
      "display_name": "Python 3",
      "name": "python3"
    },
    "language_info": {
      "name": "python"
    }
  },
  "nbformat": 4,
  "nbformat_minor": 0
}
