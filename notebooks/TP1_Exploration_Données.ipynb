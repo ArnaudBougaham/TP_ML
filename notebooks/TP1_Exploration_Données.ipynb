{
  "cells": [
    {
      "cell_type": "markdown",
      "metadata": {
        "id": "87CirrMfzlCI"
      },
      "source": [
        "# TP Machine Learning - Industrie Sidérurgique\n",
        "## Partie 1 : Exploration des données\n",
        "\n",
        "### Introduction au dataset\n",
        "\n",
        "Ce TP utilise un jeu de données provenant d'une industrie sidérurgique, collecté sur une période de 2018 à 2019.\n",
        "Il contient des mesures énergétiques détaillées d'une installation industrielle, offrant une opportunité unique\n",
        "d'analyser et d'optimiser la consommation énergétique dans un contexte industriel réel.\n",
        "\n",
        "#### Description des variables :\n",
        "\n",
        "1. **Variables temporelles :**\n",
        "   - `date` : Date et heure de la mesure\n",
        "   - `Day_of_week` : Jour de la semaine (Monday à Sunday)\n",
        "   - `NSM` : Number of Seconds from Midnight (nombre de secondes depuis minuit)\n",
        "   - `WeekStatus` : Type de jour (Weekday/Weekend)\n",
        "\n",
        "2. **Variables énergétiques principales :**\n",
        "   - `Usage_kWh` : Consommation d'énergie en kilowattheures (TARGET)\n",
        "   - `Lagging_Current_Reactive.Power_kVarh` : Puissance réactive en retard\n",
        "   - `Leading_Current_Reactive_Power_kVarh` : Puissance réactive en avance\n",
        "   - `CO2(tCO2)` : Émissions de CO2 en tonnes\n",
        "\n",
        "3. **Facteurs de puissance :**\n",
        "   - `Lagging_Current_Power_Factor` : Facteur de puissance en retard\n",
        "   - `Leading_Current_Power_Factor` : Facteur de puissance en avance\n",
        "\n",
        "#### Applications possibles :\n",
        "\n",
        "1. **Prédiction de consommation :**\n",
        "   - Prévision de la consommation énergétique\n",
        "   - Estimation des émissions de CO2\n",
        "   - Planification de la production\n",
        "\n",
        "2. **Optimisation énergétique :**\n",
        "   - Identification des périodes de forte consommation\n",
        "   - Analyse de l'efficacité énergétique\n",
        "   - Réduction des émissions de CO2\n",
        "\n",
        "3. **Détection d'anomalies :**\n",
        "   - Identification des consommations inhabituelles\n",
        "   - Détection des dysfonctionnements\n",
        "   - Maintenance prédictive\n",
        "\n",
        "4. **Analyse des patterns :**\n",
        "   - Variations journalières et hebdomadaires\n",
        "   - Impact des jours ouvrés vs weekends\n",
        "   - Corrélations entre variables énergétiques"
      ]
    },
    {
      "cell_type": "code",
      "execution_count": null,
      "metadata": {
        "id": "-oqZbdJ7zmbp"
      },
      "outputs": [],
      "source": [
        "# Import des packages nécessaires\n",
        "import pandas as pd\n",
        "import numpy as np\n",
        "import matplotlib.pyplot as plt\n",
        "import seaborn as sns\n",
        "from sklearn.preprocessing import StandardScaler\n",
        "from scipy.stats import normaltest\n",
        "\n",
        "# Configuration de l'affichage\n",
        "sns.set_theme()\n",
        "%matplotlib inline\n",
        "\n",
        "# Téléchargement et chargement des données\n",
        "!wget -O steel_industry_data.zip https://archive.ics.uci.edu/static/public/851/steel+industry+energy+consumption.zip\n",
        "!unzip -o steel_industry_data.zip\n",
        "\n",
        "# Chargement des données\n",
        "df = pd.read_csv('Steel_industry_data.csv')\n",
        "\n",
        "# Conversion des dates avec format européen (jour/mois/année)\n",
        "df['date'] = pd.to_datetime(df['date'], format='%d/%m/%Y %H:%M')\n",
        "\n",
        "# Affichage des premières lignes avec une meilleure présentation\n",
        "print(\"\\nAperçu des premières lignes :\")\n",
        "pd.set_option('display.max_columns', None)\n",
        "pd.set_option('display.width', None)\n",
        "print(df.head().to_string())\n",
        "\n",
        "# Information sur la structure du dataset\n",
        "print(\"\\nStructure du dataset :\")\n",
        "print(f\"Nombre d'observations : {df.shape[0]:,}\")\n",
        "print(f\"Nombre de variables : {df.shape[1]:,}\")\n",
        "\n",
        "# Résumé des types de variables\n",
        "print(\"\\nTypes de variables :\")\n",
        "display(df.dtypes)\n",
        "\n",
        "# Exemple de valeurs pour les variables catégorielles\n",
        "print(\"\\nValeurs uniques dans les variables catégorielles :\")\n",
        "for col in ['Day_of_week', 'WeekStatus', 'Load_Type']:\n",
        "    print(f\"\\n{col} :\")\n",
        "    print(df[col].value_counts())\n",
        "\n",
        "# Statistiques descriptives détaillées\n",
        "print(\"\\nStatistiques descriptives des variables numériques :\")\n",
        "# /!\\ Complétez les '...' pour obtenir une description (Pandas) du dataset /!\\\n",
        "desc_stats = ...\n",
        "display(desc_stats)\n",
        "\n",
        "# Vérification de la couverture temporelle\n",
        "print(\"\\nPériode couverte par le dataset :\")\n",
        "print(f\"Début : {df['date'].min()}\")\n",
        "print(f\"Fin : {df['date'].max()}\")\n",
        "print(f\"Durée : {(df['date'].max() - df['date'].min()).days} jours\")\n",
        "\n",
        "# Vérification des valeurs manquantes\n",
        "print(\"\\nValeurs manquantes par variable :\")\n",
        "print(df.isnull().sum())"
      ]
    },
    {
      "cell_type": "markdown",
      "metadata": {
        "id": "mi82UtaQzpak"
      },
      "source": [
        "### Points d'attention pour l'analyse :\n",
        "\n",
        "1. **Prétraitement nécessaire :**\n",
        "   - Standardisation des variables numériques\n",
        "   - Encodage des variables catégorielles\n",
        "   - Gestion de la temporalité\n",
        "\n",
        "2. **Aspects métier à considérer :**\n",
        "   - Cycles de production industrielle\n",
        "   - Contraintes énergétiques\n",
        "   - Objectifs environnementaux (CO2)\n",
        "\n",
        "3. **Opportunités d'analyse :**\n",
        "   - Patterns de consommation\n",
        "   - Efficacité énergétique\n",
        "   - Optimisation des coûts"
      ]
    },
    {
      "cell_type": "code",
      "execution_count": null,
      "metadata": {
        "id": "Dn9Cwn-dzsFu"
      },
      "outputs": [],
      "source": [
        "# Visualisation initiale des distributions\n",
        "plt.figure(figsize=(15, 10))\n",
        "\n",
        "# Distribution de la consommation énergétique\n",
        "plt.subplot(2, 2, 1)\n",
        "sns.histplot(data=df, x='Usage_kWh', bins=50)\n",
        "plt.title('Distribution de la consommation énergétique')\n",
        "\n",
        "# Consommation par jour de la semaine\n",
        "plt.subplot(2, 2, 2)\n",
        "sns.boxplot(data=df, x='Day_of_week', y='Usage_kWh')\n",
        "# /!\\ Complétez les '...' pour orienter les labels d'abscisse avec une roration de 45° (Matplotlib) /!\\\n",
        "plt.xticks(...)\n",
        "plt.title('Consommation par jour')\n",
        "\n",
        "# Évolution temporelle\n",
        "plt.subplot(2, 2, 3)\n",
        "df.set_index('date')['Usage_kWh'].plot()\n",
        "plt.title('Évolution de la consommation dans le temps')\n",
        "\n",
        "# Relation CO2/Consommation\n",
        "plt.subplot(2, 2, 4)\n",
        "plt.scatter(df['Usage_kWh'], df['CO2(tCO2)'], alpha=0.5)\n",
        "plt.xlabel('Consommation (kWh)')\n",
        "plt.ylabel('Émissions CO2 (tCO2)')\n",
        "plt.title('Relation Consommation/Émissions')\n",
        "\n",
        "plt.tight_layout()\n",
        "plt.show()"
      ]
    },
    {
      "cell_type": "markdown",
      "metadata": {
        "id": "tt_5J7nuSZ_o"
      },
      "source": [
        "❓ **Questions :**\n",
        "1. Combien de variables numériques et catégorielles avons-nous ?\n",
        "2. Y a-t-il des valeurs manquantes à traiter ?\n",
        "3. Quelles sont les plages de valeurs pour chaque variable ?\n",
        "4. Quelles sont les principales caractéristiques de la consommation énergétique ?\n",
        "5. Comment la consommation varie-t-elle selon les jours de la semaine ?\n",
        "6. Quelle est la nature de la relation entre consommation et émissions CO2 ?"
      ]
    },
    {
      "cell_type": "markdown",
      "metadata": {
        "id": "KMKCg31N0Szt"
      },
      "source": [
        "### 2. Analyse des distributions\n",
        "Visualisons la distribution de nos variables principales."
      ]
    },
    {
      "cell_type": "code",
      "execution_count": null,
      "metadata": {
        "id": "FVYZsaFF0Tn-"
      },
      "outputs": [],
      "source": [
        "# Visualisation de la distribution des variables numériques\n",
        "plt.figure(figsize=(15, 10))\n",
        "df.select_dtypes(include=['float64']).hist(bins=30)\n",
        "plt.tight_layout()\n",
        "plt.show()"
      ]
    },
    {
      "cell_type": "markdown",
      "metadata": {
        "id": "uxkpXe-X0Xi_"
      },
      "source": [
        "### 3. Analyse des corrélations\n",
        "Étudions les relations entre nos variables."
      ]
    },
    {
      "cell_type": "code",
      "execution_count": null,
      "metadata": {
        "id": "dQoa4_eQ0Yhp"
      },
      "outputs": [],
      "source": [
        "# Prétraitement des données pour la corrélation\n",
        "# Suppression des colonnes non numériques\n",
        "df_num = df.select_dtypes(include=['float64', 'int64'])\n",
        "\n",
        "# Matrice de corrélation\n",
        "plt.figure(figsize=(12, 8))\n",
        "sns.heatmap(df_num.corr(), annot=True, cmap='coolwarm', fmt='.2f')\n",
        "plt.title('Matrice de corrélation')\n",
        "plt.show()\n",
        "\n",
        "# Scatter matrix pour toutes les variables numériques\n",
        "# Configuration de la taille de police pour les labels\n",
        "plt.rcParams['axes.labelsize'] = 8\n",
        "plt.rcParams['xtick.labelsize'] = 6\n",
        "plt.rcParams['ytick.labelsize'] = 6\n",
        "\n",
        "# Création du scatter matrix\n",
        "axes = pd.plotting.scatter_matrix(df_num,\n",
        "                                figsize=(8, 8),\n",
        "                                diagonal='kde',\n",
        "                                alpha=0.5,\n",
        "                                density_kwds={'alpha': 0.2},\n",
        "                                marker='.',\n",
        "                                s=20)  # Taille des points réduite\n",
        "\n",
        "# Rotation des labels pour une meilleure lisibilité\n",
        "for ax in axes.flatten():\n",
        "    ax.xaxis.label.set_rotation(90)\n",
        "    ax.yaxis.label.set_rotation(0)\n",
        "    ax.yaxis.label.set_ha('right')\n",
        "\n",
        "# Réinitialisation des paramètres de police\n",
        "plt.rcParams['axes.labelsize'] = 10\n",
        "plt.rcParams['xtick.labelsize'] = 10\n",
        "plt.rcParams['ytick.labelsize'] = 10"
      ]
    },
    {
      "cell_type": "markdown",
      "metadata": {
        "id": "ZGabWclK0c3n"
      },
      "source": [
        "❓ **Questions :**\n",
        "1. Quelles variables sont les plus corrélées avec la consommation d'énergie ?\n",
        "2. Observez-vous des corrélations surprenantes ?\n",
        "3. Quelles variables semblent les moins importantes ?"
      ]
    },
    {
      "cell_type": "markdown",
      "metadata": {
        "id": "hLD0WSMticoW"
      },
      "source": [
        "### 4. Analyse approfondie des relations entre variables\n",
        "\n",
        "Jusqu'ici, nous avons analysé les corrélations linéaires (Pearson) entre nos variables.\n",
        "Cependant, dans les données réelles, les relations peuvent être plus complexes.\n",
        "Approfondissons notre analyse en trois étapes :\n",
        "\n",
        "1. **Création de nouveaux indicateurs** : Ratios pertinents pour l'analyse énergétique\n",
        "2. **Analyse des corrélations non linéaires** : Utilisation du coefficient de Spearman\n",
        "3. **Visualisation des interactions** : Impact des différents facteurs sur la consommation\n",
        "\n",
        "#### 4.1 Création d'indicateurs énergétiques"
      ]
    },
    {
      "cell_type": "code",
      "execution_count": null,
      "metadata": {
        "id": "Vrx-IQSyiffD"
      },
      "outputs": [],
      "source": [
        "# Création de ratios énergétiques pertinents\n",
        "df['power_factor_ratio'] = df['Lagging_Current_Power_Factor'] / df['Leading_Current_Power_Factor']\n",
        "df['reactive_power_ratio'] = df['Lagging_Current_Reactive.Power_kVarh'] / df['Leading_Current_Reactive_Power_kVarh']"
      ]
    },
    {
      "cell_type": "markdown",
      "metadata": {
        "id": "Dib5fNyeigV-"
      },
      "source": [
        "#### 4.2 Comparaison des corrélations linéaires et non linéaires\n",
        "\n",
        "- **Corrélation de Pearson** (vue précédemment) : mesure les relations linéaires\n",
        "- **Corrélation de Spearman** : mesure les relations monotones (même non linéaires)\n",
        "\n",
        "Comparons les deux approches :"
      ]
    },
    {
      "cell_type": "code",
      "execution_count": null,
      "metadata": {
        "id": "s-BDZA2NiisH"
      },
      "outputs": [],
      "source": [
        "# Sélection des colonnes numériques\n",
        "numeric_cols = df.select_dtypes(include=['float64', 'int64']).columns\n",
        "\n",
        "# Création des deux matrices de corrélation\n",
        "pearson_corr = df[numeric_cols].corr(method='pearson')\n",
        "# /!\\ Complétez les '...' pour obtenir une matrice de corrélation avec la méthode Spearman /!\\\n",
        "spearman_corr = df[numeric_cols]...\n",
        "\n",
        "# Visualisation côte à côte\n",
        "fig, (ax1, ax2) = plt.subplots(1, 2, figsize=(20, 8))\n",
        "\n",
        "sns.heatmap(pearson_corr, annot=True, cmap='coolwarm', fmt='.2f', ax=ax1)\n",
        "ax1.set_title('Corrélations de Pearson\\n(relations linéaires)')\n",
        "\n",
        "sns.heatmap(spearman_corr, annot=True, cmap='coolwarm', fmt='.2f', ax=ax2)\n",
        "ax2.set_title('Corrélations de Spearman\\n(relations monotones)')\n",
        "\n",
        "plt.tight_layout()\n",
        "plt.show()"
      ]
    },
    {
      "cell_type": "markdown",
      "metadata": {
        "id": "11To3ikcikhF"
      },
      "source": [
        "#### 4.3 Analyse des interactions spécifiques\n",
        "\n",
        "Visualisons quelques relations importantes pour comprendre leur nature :"
      ]
    },
    {
      "cell_type": "code",
      "execution_count": null,
      "metadata": {
        "id": "wWqlRIBgimI3"
      },
      "outputs": [],
      "source": [
        "# Visualisation des interactions clés\n",
        "plt.figure(figsize=(15, 5))\n",
        "\n",
        "plt.subplot(1, 3, 1)\n",
        "sns.scatterplot(data=df, x='power_factor_ratio', y='Usage_kWh', alpha=0.5)\n",
        "plt.title('Consommation vs Ratio des facteurs de puissance')\n",
        "\n",
        "plt.subplot(1, 3, 2)\n",
        "# /!\\ Complétez les '...' pour obtenir un scatterplot (Seaborn) du reactive power ratio en fonction de la consommation énérgetique /!\\\n",
        "sns.scatterplot(...)\n",
        "plt.title('Consommation vs Ratio des puissances réactives')\n",
        "\n",
        "plt.subplot(1, 3, 3)\n",
        "sns.scatterplot(data=df, x='CO2(tCO2)', y='Usage_kWh',\n",
        "                hue='WeekStatus', alpha=0.5)\n",
        "plt.title('Consommation vs CO2 par type de jour')\n",
        "\n",
        "plt.tight_layout()\n",
        "plt.show()"
      ]
    },
    {
      "cell_type": "markdown",
      "metadata": {
        "id": "7LSqQ8XJioCw"
      },
      "source": [
        "❓ **Questions d'analyse :**\n",
        "\n",
        "1. **Comparaison des corrélations**\n",
        "   - Quelles différences observez-vous entre les corrélations de Pearson et de Spearman ?\n",
        "   - Pour quelles variables les différences sont-elles les plus marquées ?\n",
        "   - Que nous apprend cela sur la nature des relations entre variables ?\n",
        "\n",
        "2. **Ratios énergétiques**\n",
        "   - Pourquoi avoir créé ces ratios spécifiques ?\n",
        "   - Que révèlent-ils sur l'efficacité énergétique ?\n",
        "\n",
        "3. **Patterns de consommation**\n",
        "   - Comment la relation CO2/consommation varie-t-elle selon le type de jour ?\n",
        "   - Quelles implications cela a-t-il pour la gestion énergétique ?\n",
        "   - Quelles recommandations pourriez-vous faire ?"
      ]
    },
    {
      "cell_type": "markdown",
      "metadata": {
        "id": "l-44cy5W0fFn"
      },
      "source": [
        "### 5. Préparation des données pour l'apprentissage"
      ]
    },
    {
      "cell_type": "code",
      "execution_count": null,
      "metadata": {
        "id": "fApE_oe60hca"
      },
      "outputs": [],
      "source": [
        "# Préparation des données pour les tests\n",
        "# Conversion des variables catégorielles\n",
        "from sklearn.preprocessing import OneHotEncoder, StandardScaler\n",
        "\n",
        "# Encodage des variables catégorielles\n",
        "# Définir l'ordre explicite des jours\n",
        "days_order = ['Monday', 'Tuesday', 'Wednesday', 'Thursday', 'Friday', 'Saturday', 'Sunday']\n",
        "\n",
        "# Encodage des variables catégorielles\n",
        "categorical_features = ['Day_of_week', 'WeekStatus']\n",
        "encoder = OneHotEncoder(sparse_output=False)  # Enlever drop='first' pour voir tous les jours\n",
        "\n",
        "# S'assurer que les jours sont dans le bon ordre\n",
        "df['Day_of_week'] = pd.Categorical(df['Day_of_week'], categories=days_order, ordered=True)\n",
        "\n",
        "# Encoder les variables\n",
        "encoded_features = encoder.fit_transform(df[categorical_features])\n",
        "\n",
        "# Création des noms de colonnes pour les variables encodées\n",
        "day_names = [f'Day_{day}' for day in encoder.categories_[0]]  # Tous les jours\n",
        "week_status_names = [f'Status_{status}' for status in encoder.categories_[1]]\n",
        "encoded_columns = day_names + week_status_names\n",
        "\n",
        "# Afficher pour vérification\n",
        "print(\"Catégories des jours :\", encoder.categories_[0])\n",
        "print(\"Jours encodés :\", day_names)\n",
        "\n",
        "# Création du DataFrame avec les variables encodées\n",
        "df_encoded = pd.DataFrame(encoded_features, columns=encoded_columns)\n",
        "\n",
        "# Sélection des features numériques\n",
        "numeric_features = [\n",
        "    'Usage_kWh',\n",
        "    'Lagging_Current_Reactive.Power_kVarh',\n",
        "    'Leading_Current_Reactive_Power_kVarh',\n",
        "    'CO2(tCO2)',\n",
        "    'Lagging_Current_Power_Factor',\n",
        "    'Leading_Current_Power_Factor',\n",
        "    'NSM'\n",
        "]\n",
        "\n",
        "# Standardisation des variables numériques\n",
        "scaler = StandardScaler()\n",
        "df_scaled = pd.DataFrame(\n",
        "    scaler.fit_transform(df[numeric_features]),\n",
        "    columns=numeric_features\n",
        ")\n",
        "\n",
        "# Combinaison des features numériques et encodées\n",
        "# /!\\ Complétez les '...' pour obtenir une concaténation (Pandas) du df_scaled et df_encoded /!\\\n",
        "df_final = ...\n",
        "\n",
        "display(df_final)\n",
        "# display(df_final.loc[2000:2300])\n",
        "\n",
        "# Vérification des corrélations résiduelles\n",
        "plt.figure(figsize=(12, 8))\n",
        "sns.heatmap(df_final.corr(), annot=True, cmap='coolwarm', fmt='.2f')\n",
        "plt.title('Corrélations des features préparées')\n",
        "plt.show()"
      ]
    },
    {
      "cell_type": "markdown",
      "metadata": {
        "id": "5gmhGaH652d8"
      },
      "source": [
        "❓ **Questions :**\n",
        "\n",
        "1. **Relations entre variables énergétiques**\n",
        "   - Quelle est la relation entre la consommation (Usage_kWh) et les émissions CO2 ?\n",
        "   - Pourquoi observe-t-on une forte corrélation entre ces variables ?\n",
        "   - Quelles autres variables sont fortement corrélées à la consommation ?\n",
        "\n",
        "2. **Relations entre facteurs de puissance**\n",
        "   - Comment interpréter la corrélation entre Lagging et Leading Power Factor ?\n",
        "   - Pourquoi ces facteurs ont-ils des relations différentes avec la consommation ?\n",
        "   - Quel impact cela peut-il avoir sur l'efficacité énergétique ?\n",
        "\n",
        "3. **Structure des données**\n",
        "   - Y a-t-il des variables redondantes qu'on pourrait éliminer ?\n",
        "   - Quelles variables semblent les plus importantes pour la prédiction ?\n",
        "\n",
        "4. **Implications pratiques**\n",
        "   - Comment ces corrélations peuvent-elles guider l'optimisation énergétique ?\n",
        "   - Quelles variables devraient être surveillées en priorité ?\n",
        "   - Quelles recommandations business peut-on en tirer ?"
      ]
    },
    {
      "cell_type": "markdown",
      "metadata": {
        "id": "R8cjmmWfPjzR"
      },
      "source": [
        "### 6. Analyse temporelle approfondie\n",
        "\n",
        "L'analyse temporelle est cruciale pour comprendre les patterns de consommation énergétique."
      ]
    },
    {
      "cell_type": "code",
      "execution_count": null,
      "metadata": {
        "id": "RhOpVNSNPkoy"
      },
      "outputs": [],
      "source": [
        "# Conversion de la colonne NSM (Number of Seconds from Midnight) en heure\n",
        "df['hour'] = df['NSM'] / 3600\n",
        "\n",
        "# Analyse horaire\n",
        "plt.figure(figsize=(15, 5))\n",
        "\n",
        "plt.subplot(1, 2, 1)\n",
        "hourly_consumption = df.groupby('hour')['Usage_kWh'].mean()\n",
        "plt.plot(hourly_consumption.index, hourly_consumption.values)\n",
        "plt.title('Consommation moyenne par heure')\n",
        "plt.xlabel('Heure')\n",
        "plt.ylabel('Consommation (kWh)')\n",
        "\n",
        "plt.subplot(1, 2, 2)\n",
        "sns.boxplot(data=df, x='Day_of_week', y='Usage_kWh')\n",
        "plt.title('Distribution de la consommation par jour')\n",
        "plt.xticks(rotation=45)\n",
        "\n",
        "plt.tight_layout()\n",
        "plt.show()\n",
        "\n",
        "# Analyse des patterns hebdomadaires\n",
        "weekly_stats = df.groupby('Day_of_week').agg({\n",
        "    'Usage_kWh': ['mean', 'std', 'min', 'max'],\n",
        "    'CO2(tCO2)': ['mean', 'std']\n",
        "}).round(2)\n",
        "\n",
        "print(\"\\nStatistiques hebdomadaires :\")\n",
        "display(weekly_stats)"
      ]
    },
    {
      "cell_type": "markdown",
      "metadata": {
        "id": "P-sLQPgIPnJb"
      },
      "source": [
        "❓ **Questions :**\n",
        "1. Quelles sont les heures de pic de consommation ?\n",
        "2. Y a-t-il une différence significative entre les jours de la semaine ?\n",
        "3. Comment expliquer les variations observées ?"
      ]
    },
    {
      "cell_type": "code",
      "execution_count": null,
      "metadata": {
        "id": "08LAh78K6dZT"
      },
      "outputs": [],
      "source": []
    }
  ],
  "metadata": {
    "colab": {
      "provenance": []
    },
    "kernelspec": {
      "display_name": "Python 3",
      "name": "python3"
    },
    "language_info": {
      "name": "python"
    }
  },
  "nbformat": 4,
  "nbformat_minor": 0
}
