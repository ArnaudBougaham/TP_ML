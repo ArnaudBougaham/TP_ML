{
  "nbformat": 4,
  "nbformat_minor": 0,
  "metadata": {
    "colab": {
      "provenance": []
    },
    "kernelspec": {
      "name": "python3",
      "display_name": "Python 3"
    },
    "language_info": {
      "name": "python"
    }
  },
  "cells": [
    {
      "cell_type": "markdown",
      "source": [
        "# TP3 : Analyse de l'Impact Environnemental dans l'Industrie Sidérurgique\n",
        "\n",
        "## Objectifs\n",
        "1. Analyser la relation entre consommation énergétique et émissions de CO2\n",
        "2. Identifier les profils d'impact environnemental\n",
        "3. Proposer des stratégies de réduction des émissions\n",
        "\n",
        "## Structure\n",
        "1. Préparation des données\n",
        "2. Analyse des émissions de CO2\n",
        "3. Clustering des profils environnementaux\n",
        "4. Recommandations d'optimisation"
      ],
      "metadata": {
        "id": "JZ8s8HN9J9DI"
      }
    },
    {
      "cell_type": "code",
      "source": [
        "# Imports et configuration\n",
        "import pandas as pd\n",
        "import numpy as np\n",
        "import matplotlib.pyplot as plt\n",
        "import seaborn as sns\n",
        "from sklearn.preprocessing import StandardScaler\n",
        "from sklearn.decomposition import PCA\n",
        "from sklearn.cluster import KMeans\n",
        "import warnings\n",
        "import os\n",
        "import urllib.request\n",
        "import zipfile\n",
        "warnings.filterwarnings('ignore')\n",
        "\n",
        "# Style des graphiques\n",
        "plt.style.use('default')\n",
        "sns.set_theme()"
      ],
      "metadata": {
        "id": "lpg7CHMBJ-uQ"
      },
      "execution_count": null,
      "outputs": []
    },
    {
      "cell_type": "code",
      "source": [
        "# Téléchargement et préparation des données\n",
        "if not os.path.exists('Steel_industry_data.csv'):\n",
        "    print(\"Téléchargement des données...\")\n",
        "    # Télécharger le fichier zip\n",
        "    !wget -O steel_industry_data.zip https://archive.ics.uci.edu/static/public/851/steel+industry+energy+consumption.zip\n",
        "    # Décompresser le fichier\n",
        "    !unzip -o steel_industry_data.zip\n",
        "    print(\"Données téléchargées et décompressées.\")\n",
        "else:\n",
        "    print(\"Fichier de données déjà présent.\")\n",
        "\n",
        "# Chargement des données\n",
        "try:\n",
        "    df = pd.read_csv('Steel_industry_data.csv')\n",
        "    print(f\"Données chargées avec succès : {df.shape[0]} observations, {df.shape[1]} variables\")\n",
        "except Exception as e:\n",
        "    print(f\"Erreur lors du chargement des données : {e}\")\n",
        "    raise\n",
        "\n",
        "# Séparation des variables\n",
        "numeric_features = [\n",
        "    'Lagging_Current_Reactive.Power_kVarh',\n",
        "    'Leading_Current_Reactive_Power_kVarh',\n",
        "    'CO2(tCO2)',\n",
        "    'Lagging_Current_Power_Factor',\n",
        "    'Leading_Current_Power_Factor',\n",
        "    'NSM'\n",
        "]\n",
        "categorical_features = ['Day_of_week', 'WeekStatus']\n",
        "\n",
        "# Création des périodes de la journée industrielle\n",
        "def create_industrial_periods(df):\n",
        "    # Conversion NSM en heures\n",
        "    df['hour'] = df['NSM'] / 3600\n",
        "\n",
        "    # Création des périodes avec la journée commençant à 6h\n",
        "    conditions = [\n",
        "        (df['hour'] >= 6) & (df['hour'] < 10),   # Matin1\n",
        "        (df['hour'] >= 10) & (df['hour'] < 14),  # Matin2\n",
        "        (df['hour'] >= 14) & (df['hour'] < 18),  # Aprem1\n",
        "        (df['hour'] >= 18) & (df['hour'] < 22),  # Aprem2\n",
        "        (df['hour'] >= 22) | (df['hour'] < 2),   # Nuit1\n",
        "        (df['hour'] >= 2) & (df['hour'] < 6)     # Nuit2\n",
        "    ]\n",
        "\n",
        "    # /!\\ Complétez les '...' pour créer une liste avec 6 chaines de caractères: Matin1, Matin2, Aprem1, Aprem2, Nuit1, Nuit2 /!\\\n",
        "    periods = ...\n",
        "    df['period'] = np.select(conditions, periods, default='Nuit2')\n",
        "    return df\n",
        "\n",
        "# Application des périodes\n",
        "df = create_industrial_periods(df)\n",
        "\n",
        "# Calcul de l'intensité carbone en évitant les divisions par zéro\n",
        "df['carbon_intensity'] = df['CO2(tCO2)'] / df['Usage_kWh'].replace(0, np.nan)\n",
        "df['carbon_intensity'] = df['carbon_intensity'].replace([np.inf, -np.inf], np.nan)\n",
        "\n",
        "# Remplacement des valeurs infinies ou NaN par la médiane\n",
        "median_intensity = df['carbon_intensity'].median()\n",
        "df['carbon_intensity'] = df['carbon_intensity'].fillna(median_intensity)"
      ],
      "metadata": {
        "id": "bQoDKRsIC90J"
      },
      "execution_count": null,
      "outputs": []
    },
    {
      "cell_type": "markdown",
      "source": [
        "## 1. Analyse des Émissions de CO2\n",
        "\n",
        "Examinons les patterns d'émissions et leur relation avec la consommation énergétique."
      ],
      "metadata": {
        "id": "O4ivv44fNctf"
      }
    },
    {
      "cell_type": "code",
      "source": [
        "# Visualisation des émissions\n",
        "plt.figure(figsize=(15, 5))\n",
        "\n",
        "# Distribution temporelle des émissions\n",
        "plt.subplot(1, 2, 1)\n",
        "sns.boxplot(data=df, x='period', y='CO2(tCO2)')\n",
        "plt.title('Émissions de CO2 par Période')\n",
        "plt.ylabel('Émissions (tCO2)')\n",
        "\n",
        "# Relation consommation-émissions\n",
        "plt.subplot(1, 2, 2)\n",
        "sns.scatterplot(data=df, x='Usage_kWh', y='CO2(tCO2)',\n",
        "                hue='period', alpha=0.6)\n",
        "plt.title('Relation Consommation-Émissions')\n",
        "plt.xlabel('Consommation (kWh)')\n",
        "plt.ylabel('Émissions (tCO2)')\n",
        "\n",
        "plt.tight_layout()\n",
        "# /!\\ Complétez les '...' pour afficher la figure /!\\\n",
        "plt...\n",
        "\n",
        "# %% [code]\n",
        "# Sélection des features pertinentes pour l'analyse environnementale\n",
        "features = [\n",
        "    'Usage_kWh',\n",
        "    'CO2(tCO2)',\n",
        "    'Lagging_Current_Reactive.Power_kVarh',\n",
        "    'Leading_Current_Reactive_Power_kVarh',\n",
        "    'Lagging_Current_Power_Factor',\n",
        "    'Leading_Current_Power_Factor'\n",
        "]\n",
        "\n",
        "# Standardisation\n",
        "scaler = StandardScaler()\n",
        "X = scaler.fit_transform(df[features])\n",
        "\n",
        "# ACP\n",
        "pca = PCA()\n",
        "X_pca = pca.fit_transform(X)\n",
        "\n",
        "# Affichage de la variance expliquée\n",
        "explained_variance_ratio = pca.explained_variance_ratio_\n",
        "cumsum_variance_ratio = np.cumsum(explained_variance_ratio)\n",
        "\n",
        "print(\"Variance expliquée par composante :\")\n",
        "for i, var in enumerate(explained_variance_ratio):\n",
        "    print(f\"PC{i+1}: {var:.3f} ({cumsum_variance_ratio[i]:.3f} cumulé)\")\n",
        "\n",
        "# Sélection des 2 premières composantes pour le clustering\n",
        "X_pca_2d = X_pca[:, :2]\n",
        "\n",
        "# K-means sur les composantes principales\n",
        "kmeans = KMeans(n_clusters=3, random_state=42)\n",
        "df['Cluster'] = kmeans.fit_predict(X_pca_2d)\n",
        "\n",
        "# Visualisation\n",
        "plt.figure(figsize=(12, 8))\n",
        "\n",
        "# Création de la grille pour les frontières\n",
        "x_min, x_max = X_pca_2d[:, 0].min() - 1, X_pca_2d[:, 0].max() + 1\n",
        "y_min, y_max = X_pca_2d[:, 1].min() - 1, X_pca_2d[:, 1].max() + 1\n",
        "xx, yy = np.meshgrid(np.arange(x_min, x_max, 0.1),\n",
        "                     np.arange(y_min, y_max, 0.1))\n",
        "\n",
        "# Frontières des clusters\n",
        "Z = kmeans.predict(np.c_[xx.ravel(), yy.ravel()])\n",
        "Z = Z.reshape(xx.shape)\n",
        "plt.contour(xx, yy, Z, colors='black', linestyles='--', alpha=0.5)\n",
        "\n",
        "# Scatter plot\n",
        "scatter = plt.scatter(X_pca_2d[:, 0], X_pca_2d[:, 1],\n",
        "                     c=df['Usage_kWh'],  # Coloration selon la consommation\n",
        "                     cmap='viridis',\n",
        "                     alpha=0.6)\n",
        "\n",
        "# Annotations des clusters\n",
        "for i in range(3):\n",
        "    cluster_data = df[df['Cluster'] == i]\n",
        "    centroid = X_pca_2d[df['Cluster'] == i].mean(axis=0)\n",
        "\n",
        "    # Caractéristiques du cluster\n",
        "    usage_mean = cluster_data['Usage_kWh'].mean()\n",
        "    co2_mean = cluster_data['CO2(tCO2)'].mean()\n",
        "    pf_mean = cluster_data['Lagging_Current_Power_Factor'].mean()\n",
        "\n",
        "    # Détermination du type de profil\n",
        "    if usage_mean > df['Usage_kWh'].quantile(0.66):\n",
        "        profile = \"Forte charge\"\n",
        "    elif usage_mean > df['Usage_kWh'].quantile(0.33):\n",
        "        profile = \"Charge moyenne\"\n",
        "    else:\n",
        "        profile = \"Faible charge\"\n",
        "\n",
        "    plt.annotate(\n",
        "        f'Cluster {i}\\n'\n",
        "        f'Usage: {usage_mean:.1f} kWh\\n'\n",
        "        f'CO2: {co2_mean:.3f} tCO2\\n'\n",
        "        f'PF: {pf_mean:.2f}\\n'\n",
        "        f'Type: {profile}',\n",
        "        xy=(centroid[0], centroid[1]),\n",
        "        xytext=(10, 10),\n",
        "        textcoords='offset points',\n",
        "        bbox=dict(boxstyle='round,pad=0.5', fc='white', alpha=0.8)\n",
        "    )\n",
        "\n",
        "plt.title('Profils de Consommation (après ACP)')\n",
        "plt.xlabel('Première composante principale')\n",
        "plt.ylabel('Deuxième composante principale')\n",
        "plt.colorbar(scatter, label='Consommation (kWh)')\n",
        "plt.grid(True)\n",
        "plt.show()\n",
        "\n",
        "# Analyse des clusters\n",
        "print(\"\\nAnalyse détaillée des clusters :\")\n",
        "for i in range(3):\n",
        "    cluster_data = df[df['Cluster'] == i]\n",
        "    print(f\"\\nCluster {i}:\")\n",
        "    print(f\"Nombre de points: {len(cluster_data)}\")\n",
        "    print(f\"Consommation moyenne: {cluster_data['Usage_kWh'].mean():.1f} kWh\")\n",
        "    print(f\"Émissions moyennes: {cluster_data['CO2(tCO2)'].mean():.3f} tCO2\")\n",
        "    print(f\"Facteur de puissance moyen: {cluster_data['Lagging_Current_Power_Factor'].mean():.2f}\")\n",
        "    print(f\"Période dominante: {cluster_data['period'].value_counts().index[0]}\")\n"
      ],
      "metadata": {
        "id": "QYs_5_fZL0BZ"
      },
      "execution_count": null,
      "outputs": []
    },
    {
      "cell_type": "markdown",
      "source": [
        "❓ Questions d'Analyse :\n",
        "\n",
        "1. **Patterns d'Émissions**\n",
        "   - Quelles périodes montrent les émissions les plus élevées ?\n",
        "   - Comment expliquer les variations d'émission carbone ?\n",
        "   - Quel(s) facteur(s) influence(nt) le plus ces émissions ?\n",
        "\n",
        "2. **Pistes d'Amélioration**\n",
        "   - Quelles actions concrètes peuvent être proposées pour réduire l'empreinte carbone ?"
      ],
      "metadata": {
        "id": "0wUFuXUdZD_8"
      }
    },
    {
      "cell_type": "markdown",
      "source": [
        "## Analyse des Clusters et Recommandations\n",
        "\n",
        "### 1. Identification des Profils"
      ],
      "metadata": {
        "id": "wHiVQeLgJSXj"
      }
    },
    {
      "cell_type": "code",
      "source": [
        "# Visualisation principale des clusters avec leurs caractéristiques\n",
        "plt.figure(figsize=(12, 8))\n",
        "plt.scatter(X_pca_2d[:, 0], X_pca_2d[:, 1],\n",
        "           c=df['Cluster'], cmap='viridis',\n",
        "           alpha=0.6)\n",
        "plt.contour(xx, yy, Z, colors='black', linestyles='--', alpha=0.5)\n",
        "\n",
        "for i in range(3):\n",
        "    cluster_data = df[df['Cluster'] == i]\n",
        "    centroid = X_pca_2d[df['Cluster'] == i].mean(axis=0)\n",
        "    plt.annotate(f'Cluster {i}', xy=(centroid[0], centroid[1]))\n",
        "\n",
        "plt.title('Vue Globale des Clusters')\n",
        "# /!\\ Complétez les '...' pour nommer l'axe des abscisses PC1 et l'axe des ordonnées PC2 /!\\\n",
        "plt...\n",
        "plt...\n",
        "plt.colorbar(label='Cluster')\n",
        "plt.show()"
      ],
      "metadata": {
        "id": "KXQsbUEhJYZu"
      },
      "execution_count": null,
      "outputs": []
    },
    {
      "cell_type": "markdown",
      "source": [
        "❓ Questions sur la séparation des clusters :\n",
        "- Que représente la distance entre les points d'un même cluster ?\n",
        "- Comment expliquer la forme allongée du cluster 0 ?"
      ],
      "metadata": {
        "id": "AhFQGzAYLPhq"
      }
    },
    {
      "cell_type": "markdown",
      "source": [
        "### 2. Analyse du Cluster 1 - Problème d'Efficience Nocturne\n"
      ],
      "metadata": {
        "id": "Kx3_IYKVJbxL"
      }
    },
    {
      "cell_type": "code",
      "source": [
        "# Visualisation de l'efficience par période\n",
        "cluster1_data = df[df['Cluster'] == 1]\n",
        "\n",
        "plt.figure(figsize=(15, 5))\n",
        "\n",
        "# Distribution du facteur de puissance par période\n",
        "plt.subplot(1, 2, 1)\n",
        "sns.boxplot(data=cluster1_data, x='period',\n",
        "            y='Lagging_Current_Power_Factor')\n",
        "# /!\\ Complétez les '...' pour ajouter le titre à la figure : Facteur de Puissance - Cluster 1  /!\\\n",
        "plt...\n",
        "plt.xticks(rotation=45)\n",
        "\n",
        "# Évolution temporelle\n",
        "plt.subplot(1, 2, 2)\n",
        "sns.scatterplot(data=cluster1_data,\n",
        "                x='hour',\n",
        "                y='Lagging_Current_Power_Factor',\n",
        "                alpha=0.5)\n",
        "plt.axhline(y=90, color='r', linestyle='--',\n",
        "            label='Objectif PF > 90')\n",
        "plt.title('Variation du PF sur 24h')\n",
        "plt.legend()\n",
        "plt.tight_layout()\n",
        "plt.show()\n",
        "\n",
        "print(\"Statistiques Cluster 1 par période:\")\n",
        "print(cluster1_data.groupby('period')['Lagging_Current_Power_Factor'].describe())"
      ],
      "metadata": {
        "id": "c2gRxLdZJf40"
      },
      "execution_count": null,
      "outputs": []
    },
    {
      "cell_type": "markdown",
      "source": [
        "❓ Questions sur l'inefficience nocturne :\n",
        "- Pourquoi le facteur de puissance est-il plus faible la nuit ?\n",
        "- Quel serait l'impact financier d'une amélioration du PF nocturne ?"
      ],
      "metadata": {
        "id": "JApi1hCtLV_K"
      }
    },
    {
      "cell_type": "markdown",
      "source": [
        "### 3. Analyse du Cluster 0 - Gestion des Pics de Charge\n"
      ],
      "metadata": {
        "id": "PMExP0reJi7r"
      }
    },
    {
      "cell_type": "code",
      "source": [
        "# Analyse des pics de consommation\n",
        "# /!\\ Complétez les '...' affecter à la variable cluster0_data le dataframe où uniquement le cluster 0 est sélectionné /!\\\n",
        "cluster0_data = ...\n",
        "\n",
        "plt.figure(figsize=(15, 5))\n",
        "\n",
        "# Distribution horaire de la charge\n",
        "plt.subplot(1, 2, 1)\n",
        "sns.histplot(data=cluster0_data, x='hour',\n",
        "             weights='Usage_kWh', bins=24)\n",
        "plt.title('Distribution Horaire de la Charge')\n",
        "\n",
        "# Relation charge-émissions\n",
        "plt.subplot(1, 2, 2)\n",
        "sns.scatterplot(data=cluster0_data,\n",
        "                x='Usage_kWh',\n",
        "                y='CO2(tCO2)',\n",
        "                hue='period')\n",
        "plt.title('Impact Environnemental des Pics')\n",
        "plt.tight_layout()\n",
        "plt.show()\n",
        "\n",
        "# Analyse des périodes de pic\n",
        "peak_periods = cluster0_data.groupby('period')['Usage_kWh'].agg(['mean', 'count'])\n",
        "print(\"\\nAnalyse des pics par période:\")\n",
        "print(peak_periods.sort_values('mean', ascending=False))"
      ],
      "metadata": {
        "id": "WGbRHkLXJkN1"
      },
      "execution_count": null,
      "outputs": []
    },
    {
      "cell_type": "markdown",
      "source": [
        "❓ Questions sur les pics de charge :\n",
        "- Pourquoi les pics sont-ils concentrés sur certaines périodes ?\n",
        "- Quel est le compromis entre lissage de charge et contraintes de production ?"
      ],
      "metadata": {
        "id": "05U85eNGLZZB"
      }
    },
    {
      "cell_type": "markdown",
      "source": [
        "### 4. Analyse du Cluster 2 - Modèle d'Efficience\n"
      ],
      "metadata": {
        "id": "UPvG2h0KJpIO"
      }
    },
    {
      "cell_type": "code",
      "source": [
        "# Comparaison des conditions opérationnelles\n",
        "cluster2_data = df[df['Cluster'] == 2]\n",
        "\n",
        "plt.figure(figsize=(15, 5))\n",
        "\n",
        "# Comparaison des facteurs de puissance\n",
        "plt.subplot(1, 2, 1)\n",
        "sns.boxplot(data=df, x='Cluster',\n",
        "            y='Lagging_Current_Power_Factor')\n",
        "plt.title('Comparaison des PF par Cluster')\n",
        "\n",
        "# Analyse des conditions optimales\n",
        "plt.subplot(1, 2, 2)\n",
        "sns.scatterplot(data=cluster2_data,\n",
        "                x='Usage_kWh',\n",
        "                y='Lagging_Current_Power_Factor',\n",
        "                hue='period')\n",
        "plt.title('Conditions Optimales (Cluster 2)')\n",
        "plt.tight_layout()\n",
        "plt.show()\n",
        "\n",
        "# Identification des meilleures pratiques\n",
        "best_conditions = cluster2_data[cluster2_data['Lagging_Current_Power_Factor'] > 95]\n",
        "print(\"\\nConditions optimales d'opération:\")\n",
        "print(best_conditions.groupby('period').agg({\n",
        "    'Usage_kWh': 'mean',\n",
        "    'Lagging_Current_Power_Factor': 'mean'\n",
        "}).round(2))"
      ],
      "metadata": {
        "id": "DXHrmbzBJqO5"
      },
      "execution_count": null,
      "outputs": []
    },
    {
      "cell_type": "markdown",
      "source": [
        "❓ Questions sur les bonnes pratiques :\n",
        "- Quelles conditions spécifiques permettent d'atteindre un PF > 95 ?\n",
        "- Comment généraliser ces conditions aux autres périodes ?\n",
        "- Quel serait la conséquence financière de mise en œuvre de ces améliorations ?"
      ],
      "metadata": {
        "id": "fsGFGJc8Lcyz"
      }
    },
    {
      "cell_type": "markdown",
      "source": [
        "### 5. Plan de Mise en Œuvre et Suivi\n"
      ],
      "metadata": {
        "id": "cAlKq8EuJxDH"
      }
    },
    {
      "cell_type": "code",
      "source": [
        "# Création d'un dashboard de suivi\n",
        "fig, axes = plt.subplots(2, 2, figsize=(15, 12))\n",
        "\n",
        "# 1. Distribution des clusters\n",
        "sns.scatterplot(data=df, x=X_pca_2d[:, 0], y=X_pca_2d[:, 1],\n",
        "                hue='Cluster', ax=axes[0, 0])\n",
        "axes[0, 0].set_title('Distribution des Clusters')\n",
        "\n",
        "# 2. Évolution du PF\n",
        "sns.boxplot(data=df, x='period', y='Lagging_Current_Power_Factor',\n",
        "            hue='Cluster', ax=axes[0, 1])\n",
        "axes[0, 1].set_title('PF par Période et Cluster')\n",
        "axes[0, 1].tick_params(axis='x', rotation=45)\n",
        "\n",
        "# 3. Distribution de la charge\n",
        "sns.histplot(data=df, x='Usage_kWh', hue='Cluster',\n",
        "             multiple=\"stack\", ax=axes[1, 0])\n",
        "axes[1, 0].set_title('Distribution de la Charge')\n",
        "\n",
        "# 4. Émissions par cluster\n",
        "sns.boxplot(data=df, x='Cluster', y='CO2(tCO2)', ax=axes[1, 1])\n",
        "axes[1, 1].set_title('Émissions par Cluster')\n",
        "\n",
        "plt.tight_layout()\n",
        "plt.show()\n",
        "\n",
        "# KPIs actuels\n",
        "print(\"\\nKPIs de Base:\")\n",
        "for cluster in range(3):\n",
        "    cluster_data = df[df['Cluster'] == cluster]\n",
        "    print(f\"\\nCluster {cluster}:\")\n",
        "    print(f\"PF moyen: {cluster_data['Lagging_Current_Power_Factor'].mean():.2f}\")\n",
        "    print(f\"% points PF > 90: {(cluster_data['Lagging_Current_Power_Factor'] > 90).mean()*100:.1f}%\")\n",
        "    print(f\"Émissions moyennes: {cluster_data['CO2(tCO2)'].mean():.3f} tCO2\")"
      ],
      "metadata": {
        "id": "0Te6wETgJxmV"
      },
      "execution_count": null,
      "outputs": []
    },
    {
      "cell_type": "markdown",
      "source": [
        "❓ Questions sur le suivi :\n",
        "- Quels KPIs additionnels seraient pertinents ?\n",
        "- Comment détecter une dérive des performances ?"
      ],
      "metadata": {
        "id": "srCsR_PDLgbp"
      }
    },
    {
      "cell_type": "markdown",
      "source": [
        "## Recommandations pour la Réduction des Émissions\n",
        "\n",
        "1. **Optimisation Opérationnelle**\n",
        "   - Identifier et reproduire les conditions des périodes à faible intensité\n",
        "   - Optimiser la planification des opérations énergivores\n",
        "   - Former les équipes aux meilleures pratiques environnementales\n",
        "\n",
        "2. **Améliorations Techniques**\n",
        "   - Moderniser les équipements les plus émetteurs\n",
        "   - Installer des systèmes de monitoring des émissions en temps réel\n",
        "   - Mettre en place des systèmes de récupération d'énergie\n",
        "\n",
        "3. **Stratégie Long Terme**\n",
        "   - Définir des objectifs de réduction par cluster\n",
        "   - Investir dans des technologies bas-carbone\n",
        "   - Développer un plan de transition énergétique"
      ],
      "metadata": {
        "id": "hvg2QrXYJ0ZZ"
      }
    },
    {
      "cell_type": "markdown",
      "source": [
        "❓ Questions sur la mise en œuvre :\n",
        "- Par où commencer concrètement ?\n",
        "- Comment impliquer les équipes dans ces changements ?"
      ],
      "metadata": {
        "id": "2lQa1p9bLivb"
      }
    }
  ]
}